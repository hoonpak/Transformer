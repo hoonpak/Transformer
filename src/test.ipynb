{
 "cells": [
  {
   "cell_type": "code",
   "execution_count": 1,
   "metadata": {},
   "outputs": [],
   "source": [
    "import torch"
   ]
  },
  {
   "cell_type": "code",
   "execution_count": 44,
   "metadata": {},
   "outputs": [],
   "source": [
    "a = torch.nn.Embedding(100, 100)\n",
    "b = torch.nn.Embedding(100, 100)\n",
    "c = torch.nn.Linear(100, 100)\n",
    "d = torch.nn.Parameter(torch.randn((100,100)))"
   ]
  },
  {
   "cell_type": "code",
   "execution_count": 46,
   "metadata": {},
   "outputs": [],
   "source": [
    "a.weight = d\n",
    "b.weight = d\n",
    "c.weight = d"
   ]
  },
  {
   "cell_type": "code",
   "execution_count": 49,
   "metadata": {},
   "outputs": [
    {
     "data": {
      "text/plain": [
       "Parameter containing:\n",
       "tensor([[-1.8538, -0.3930, -2.3039,  ...,  1.9179, -1.0638, -0.6847],\n",
       "        [ 0.1682,  1.9091,  0.5374,  ...,  1.4815, -0.2173,  0.3503],\n",
       "        [ 0.0810,  0.8284, -0.8905,  ...,  0.9841, -1.3972,  0.4104],\n",
       "        ...,\n",
       "        [-0.4602,  1.5924, -1.4398,  ...,  0.5025,  2.5260,  1.0231],\n",
       "        [-1.6919,  0.0265,  0.3815,  ..., -0.6243, -0.7998, -0.9686],\n",
       "        [ 1.2108,  0.1464, -0.2416,  ..., -2.6398,  0.0199, -0.8723]],\n",
       "       requires_grad=True)"
      ]
     },
     "execution_count": 49,
     "metadata": {},
     "output_type": "execute_result"
    }
   ],
   "source": [
    "a.weight"
   ]
  },
  {
   "cell_type": "code",
   "execution_count": 47,
   "metadata": {},
   "outputs": [
    {
     "data": {
      "text/plain": [
       "Parameter containing:\n",
       "tensor([[-1.8538, -0.3930, -2.3039,  ...,  1.9179, -1.0638, -0.6847],\n",
       "        [ 0.1682,  1.9091,  0.5374,  ...,  1.4815, -0.2173,  0.3503],\n",
       "        [ 0.0810,  0.8284, -0.8905,  ...,  0.9841, -1.3972,  0.4104],\n",
       "        ...,\n",
       "        [-0.4602,  1.5924, -1.4398,  ...,  0.5025,  2.5260,  1.0231],\n",
       "        [-1.6919,  0.0265,  0.3815,  ..., -0.6243, -0.7998, -0.9686],\n",
       "        [ 1.2108,  0.1464, -0.2416,  ..., -2.6398,  0.0199, -0.8723]],\n",
       "       requires_grad=True)"
      ]
     },
     "execution_count": 47,
     "metadata": {},
     "output_type": "execute_result"
    }
   ],
   "source": [
    "b.weight"
   ]
  },
  {
   "cell_type": "code",
   "execution_count": 48,
   "metadata": {},
   "outputs": [
    {
     "data": {
      "text/plain": [
       "Parameter containing:\n",
       "tensor([[-1.8538, -0.3930, -2.3039,  ...,  1.9179, -1.0638, -0.6847],\n",
       "        [ 0.1682,  1.9091,  0.5374,  ...,  1.4815, -0.2173,  0.3503],\n",
       "        [ 0.0810,  0.8284, -0.8905,  ...,  0.9841, -1.3972,  0.4104],\n",
       "        ...,\n",
       "        [-0.4602,  1.5924, -1.4398,  ...,  0.5025,  2.5260,  1.0231],\n",
       "        [-1.6919,  0.0265,  0.3815,  ..., -0.6243, -0.7998, -0.9686],\n",
       "        [ 1.2108,  0.1464, -0.2416,  ..., -2.6398,  0.0199, -0.8723]],\n",
       "       requires_grad=True)"
      ]
     },
     "execution_count": 48,
     "metadata": {},
     "output_type": "execute_result"
    }
   ],
   "source": [
    "c.weight"
   ]
  },
  {
   "cell_type": "code",
   "execution_count": 54,
   "metadata": {},
   "outputs": [],
   "source": [
    "with torch.no_grad():\n",
    "    a.weight[1] -= torch.ones_like(a.weight[1])"
   ]
  },
  {
   "cell_type": "code",
   "execution_count": 55,
   "metadata": {},
   "outputs": [
    {
     "data": {
      "text/plain": [
       "Parameter containing:\n",
       "tensor([[ 0.0000,  0.0000,  0.0000,  ...,  0.0000,  0.0000,  0.0000],\n",
       "        [-0.8318,  0.9091, -0.4626,  ...,  0.4815, -1.2173, -0.6497],\n",
       "        [ 0.0810,  0.8284, -0.8905,  ...,  0.9841, -1.3972,  0.4104],\n",
       "        ...,\n",
       "        [-0.4602,  1.5924, -1.4398,  ...,  0.5025,  2.5260,  1.0231],\n",
       "        [-1.6919,  0.0265,  0.3815,  ..., -0.6243, -0.7998, -0.9686],\n",
       "        [ 1.2108,  0.1464, -0.2416,  ..., -2.6398,  0.0199, -0.8723]],\n",
       "       requires_grad=True)"
      ]
     },
     "execution_count": 55,
     "metadata": {},
     "output_type": "execute_result"
    }
   ],
   "source": [
    "a.weight"
   ]
  },
  {
   "cell_type": "code",
   "execution_count": 56,
   "metadata": {},
   "outputs": [
    {
     "data": {
      "text/plain": [
       "Parameter containing:\n",
       "tensor([[ 0.0000,  0.0000,  0.0000,  ...,  0.0000,  0.0000,  0.0000],\n",
       "        [-0.8318,  0.9091, -0.4626,  ...,  0.4815, -1.2173, -0.6497],\n",
       "        [ 0.0810,  0.8284, -0.8905,  ...,  0.9841, -1.3972,  0.4104],\n",
       "        ...,\n",
       "        [-0.4602,  1.5924, -1.4398,  ...,  0.5025,  2.5260,  1.0231],\n",
       "        [-1.6919,  0.0265,  0.3815,  ..., -0.6243, -0.7998, -0.9686],\n",
       "        [ 1.2108,  0.1464, -0.2416,  ..., -2.6398,  0.0199, -0.8723]],\n",
       "       requires_grad=True)"
      ]
     },
     "execution_count": 56,
     "metadata": {},
     "output_type": "execute_result"
    }
   ],
   "source": [
    "b.weight"
   ]
  },
  {
   "cell_type": "code",
   "execution_count": 57,
   "metadata": {},
   "outputs": [
    {
     "data": {
      "text/plain": [
       "Parameter containing:\n",
       "tensor([[ 0.0000,  0.0000,  0.0000,  ...,  0.0000,  0.0000,  0.0000],\n",
       "        [-0.8318,  0.9091, -0.4626,  ...,  0.4815, -1.2173, -0.6497],\n",
       "        [ 0.0810,  0.8284, -0.8905,  ...,  0.9841, -1.3972,  0.4104],\n",
       "        ...,\n",
       "        [-0.4602,  1.5924, -1.4398,  ...,  0.5025,  2.5260,  1.0231],\n",
       "        [-1.6919,  0.0265,  0.3815,  ..., -0.6243, -0.7998, -0.9686],\n",
       "        [ 1.2108,  0.1464, -0.2416,  ..., -2.6398,  0.0199, -0.8723]],\n",
       "       requires_grad=True)"
      ]
     },
     "execution_count": 57,
     "metadata": {},
     "output_type": "execute_result"
    }
   ],
   "source": [
    "c.weight"
   ]
  },
  {
   "cell_type": "code",
   "execution_count": 58,
   "metadata": {},
   "outputs": [
    {
     "data": {
      "text/plain": [
       "Embedding(100, 100)"
      ]
     },
     "execution_count": 58,
     "metadata": {},
     "output_type": "execute_result"
    }
   ],
   "source": [
    "a"
   ]
  },
  {
   "cell_type": "code",
   "execution_count": 59,
   "metadata": {},
   "outputs": [
    {
     "data": {
      "text/plain": [
       "Linear(in_features=100, out_features=100, bias=True)"
      ]
     },
     "execution_count": 59,
     "metadata": {},
     "output_type": "execute_result"
    }
   ],
   "source": [
    "c"
   ]
  },
  {
   "cell_type": "code",
   "execution_count": 62,
   "metadata": {},
   "outputs": [],
   "source": [
    "aa = torch.arange(0,10)"
   ]
  },
  {
   "cell_type": "code",
   "execution_count": 63,
   "metadata": {},
   "outputs": [
    {
     "data": {
      "text/plain": [
       "tensor([ 0, -1, -2, -3, -4, -5, -6, -7, -8, -9])"
      ]
     },
     "execution_count": 63,
     "metadata": {},
     "output_type": "execute_result"
    }
   ],
   "source": [
    "-aa"
   ]
  },
  {
   "cell_type": "code",
   "execution_count": 67,
   "metadata": {},
   "outputs": [
    {
     "data": {
      "text/plain": [
       "tensor([ 1.0000,  4.0000,  9.0000, 16.0000, 25.0000, 36.0000, 49.0000, 64.0000,\n",
       "        81.0000])"
      ]
     },
     "execution_count": 67,
     "metadata": {},
     "output_type": "execute_result"
    }
   ],
   "source": [
    "torch.exp(2*torch.log(aa[1:]))"
   ]
  },
  {
   "cell_type": "code",
   "execution_count": 68,
   "metadata": {},
   "outputs": [
    {
     "data": {
      "text/plain": [
       "tensor([ 1,  4,  9, 16, 25, 36, 49, 64, 81])"
      ]
     },
     "execution_count": 68,
     "metadata": {},
     "output_type": "execute_result"
    }
   ],
   "source": [
    "aa[1:]**2"
   ]
  },
  {
   "cell_type": "code",
   "execution_count": 4,
   "metadata": {},
   "outputs": [],
   "source": [
    "max_len = 128\n",
    "dim = 512\n",
    "\n",
    "dim_loc = torch.arange(start=0, end=dim, step=2)\n",
    "pos_loc = torch.arange(start=0, end=max_len, step=1)\n",
    "pos_enc = torch.zeros((max_len, dim))\n",
    "\n",
    "denominator = torch.exp((-(dim_loc/dim))*(torch.log(torch.tensor(10000))))\n",
    "sin_pe = torch.sin(pos_loc.unsqueeze(1)*denominator.unsqueeze(0))\n",
    "cos_pe = torch.cos(pos_loc.unsqueeze(1)*denominator.unsqueeze(0))\n",
    "\n",
    "pos_enc[:,0::2] = sin_pe\n",
    "pos_enc[:,1::2] = cos_pe"
   ]
  },
  {
   "cell_type": "code",
   "execution_count": 7,
   "metadata": {},
   "outputs": [
    {
     "data": {
      "text/plain": [
       "torch.Size([256])"
      ]
     },
     "execution_count": 7,
     "metadata": {},
     "output_type": "execute_result"
    }
   ],
   "source": [
    "denominator.shape"
   ]
  },
  {
   "cell_type": "code",
   "execution_count": 8,
   "metadata": {},
   "outputs": [
    {
     "data": {
      "text/plain": [
       "torch.Size([128, 256])"
      ]
     },
     "execution_count": 8,
     "metadata": {},
     "output_type": "execute_result"
    }
   ],
   "source": [
    "sin_pe.shape"
   ]
  },
  {
   "cell_type": "code",
   "execution_count": 11,
   "metadata": {},
   "outputs": [],
   "source": [
    "aa = torch.rand((10,128,512))\n",
    "bb = torch.rand((128,512))"
   ]
  },
  {
   "cell_type": "code",
   "execution_count": 2,
   "metadata": {},
   "outputs": [],
   "source": [
    "aa = torch.Tensor([[True, True, True, False, False],\n",
    "                   [True, True, False, False, False],\n",
    "                   [True, True, True, True, False]])"
   ]
  },
  {
   "cell_type": "code",
   "execution_count": 3,
   "metadata": {},
   "outputs": [],
   "source": [
    "mask = torch.bmm(aa.unsqueeze(2), aa.unsqueeze(1))"
   ]
  },
  {
   "cell_type": "code",
   "execution_count": 23,
   "metadata": {},
   "outputs": [],
   "source": [
    "testtensor = torch.randn(mask.shape)"
   ]
  },
  {
   "cell_type": "code",
   "execution_count": 8,
   "metadata": {},
   "outputs": [
    {
     "data": {
      "text/plain": [
       "tensor([[[1., 1., 1., 0., 0.],\n",
       "         [1., 1., 1., 0., 0.],\n",
       "         [1., 1., 1., 0., 0.],\n",
       "         [0., 0., 0., 0., 0.],\n",
       "         [0., 0., 0., 0., 0.]],\n",
       "\n",
       "        [[1., 1., 0., 0., 0.],\n",
       "         [1., 1., 0., 0., 0.],\n",
       "         [0., 0., 0., 0., 0.],\n",
       "         [0., 0., 0., 0., 0.],\n",
       "         [0., 0., 0., 0., 0.]],\n",
       "\n",
       "        [[1., 1., 1., 1., 0.],\n",
       "         [1., 1., 1., 1., 0.],\n",
       "         [1., 1., 1., 1., 0.],\n",
       "         [1., 1., 1., 1., 0.],\n",
       "         [0., 0., 0., 0., 0.]]])"
      ]
     },
     "execution_count": 8,
     "metadata": {},
     "output_type": "execute_result"
    }
   ],
   "source": [
    "mask"
   ]
  },
  {
   "cell_type": "code",
   "execution_count": 47,
   "metadata": {},
   "outputs": [
    {
     "data": {
      "text/plain": [
       "tensor([[[False,  True,  True,  True,  True],\n",
       "         [False, False,  True,  True,  True],\n",
       "         [False, False, False,  True,  True],\n",
       "         [False, False, False, False,  True],\n",
       "         [False, False, False, False, False]],\n",
       "\n",
       "        [[False,  True,  True,  True,  True],\n",
       "         [False, False,  True,  True,  True],\n",
       "         [False, False, False,  True,  True],\n",
       "         [False, False, False, False,  True],\n",
       "         [False, False, False, False, False]],\n",
       "\n",
       "        [[False,  True,  True,  True,  True],\n",
       "         [False, False,  True,  True,  True],\n",
       "         [False, False, False,  True,  True],\n",
       "         [False, False, False, False,  True],\n",
       "         [False, False, False, False, False]]])"
      ]
     },
     "execution_count": 47,
     "metadata": {},
     "output_type": "execute_result"
    }
   ],
   "source": [
    "(torch.triu(torch.ones_like(mask), 1) != 0)"
   ]
  },
  {
   "cell_type": "code",
   "execution_count": 50,
   "metadata": {},
   "outputs": [],
   "source": [
    "masked_info = torch.bmm((aa).unsqueeze(2), (aa).unsqueeze(1))\n",
    "# leftward_mask = (torch.triu(torch.ones_like(masked_info), 1) != 0)\n",
    "leftward_mask = (torch.triu(torch.ones_like(masked_info)) == 0)\n",
    "masked_info = (masked_info == 0) | leftward_mask"
   ]
  },
  {
   "cell_type": "code",
   "execution_count": 51,
   "metadata": {},
   "outputs": [
    {
     "data": {
      "text/plain": [
       "tensor([[[False, False, False,  True,  True],\n",
       "         [ True, False, False,  True,  True],\n",
       "         [ True,  True, False,  True,  True],\n",
       "         [ True,  True,  True,  True,  True],\n",
       "         [ True,  True,  True,  True,  True]],\n",
       "\n",
       "        [[False, False,  True,  True,  True],\n",
       "         [ True, False,  True,  True,  True],\n",
       "         [ True,  True,  True,  True,  True],\n",
       "         [ True,  True,  True,  True,  True],\n",
       "         [ True,  True,  True,  True,  True]],\n",
       "\n",
       "        [[False, False, False, False,  True],\n",
       "         [ True, False, False, False,  True],\n",
       "         [ True,  True, False, False,  True],\n",
       "         [ True,  True,  True, False,  True],\n",
       "         [ True,  True,  True,  True,  True]]])"
      ]
     },
     "execution_count": 51,
     "metadata": {},
     "output_type": "execute_result"
    }
   ],
   "source": [
    "masked_info"
   ]
  },
  {
   "cell_type": "code",
   "execution_count": 49,
   "metadata": {},
   "outputs": [
    {
     "data": {
      "text/plain": [
       "tensor([[[False,  True,  True,  True,  True],\n",
       "         [False, False,  True,  True,  True],\n",
       "         [False, False, False,  True,  True],\n",
       "         [ True,  True,  True,  True,  True],\n",
       "         [ True,  True,  True,  True,  True]],\n",
       "\n",
       "        [[False,  True,  True,  True,  True],\n",
       "         [False, False,  True,  True,  True],\n",
       "         [ True,  True,  True,  True,  True],\n",
       "         [ True,  True,  True,  True,  True],\n",
       "         [ True,  True,  True,  True,  True]],\n",
       "\n",
       "        [[False,  True,  True,  True,  True],\n",
       "         [False, False,  True,  True,  True],\n",
       "         [False, False, False,  True,  True],\n",
       "         [False, False, False, False,  True],\n",
       "         [ True,  True,  True,  True,  True]]])"
      ]
     },
     "execution_count": 49,
     "metadata": {},
     "output_type": "execute_result"
    }
   ],
   "source": [
    "masked_info"
   ]
  },
  {
   "cell_type": "code",
   "execution_count": 30,
   "metadata": {},
   "outputs": [
    {
     "data": {
      "text/plain": [
       "tensor([[[False, False, False,  True,  True],\n",
       "         [ True, False, False,  True,  True],\n",
       "         [ True,  True, False,  True,  True],\n",
       "         [ True,  True,  True,  True,  True],\n",
       "         [ True,  True,  True,  True,  True]],\n",
       "\n",
       "        [[False, False,  True,  True,  True],\n",
       "         [ True, False,  True,  True,  True],\n",
       "         [ True,  True,  True,  True,  True],\n",
       "         [ True,  True,  True,  True,  True],\n",
       "         [ True,  True,  True,  True,  True]],\n",
       "\n",
       "        [[False, False, False, False,  True],\n",
       "         [ True, False, False, False,  True],\n",
       "         [ True,  True, False, False,  True],\n",
       "         [ True,  True,  True, False,  True],\n",
       "         [ True,  True,  True,  True,  True]]])"
      ]
     },
     "execution_count": 30,
     "metadata": {},
     "output_type": "execute_result"
    }
   ],
   "source": [
    "masked_info"
   ]
  },
  {
   "cell_type": "code",
   "execution_count": 38,
   "metadata": {},
   "outputs": [],
   "source": [
    "test = torch.tensor([[2,1,2,0,0],\n",
    "                     [1,2,0,0,0],\n",
    "                     [1,0,0,0,0]])"
   ]
  },
  {
   "cell_type": "code",
   "execution_count": 43,
   "metadata": {},
   "outputs": [],
   "source": [
    "test[test != 0] = 1"
   ]
  },
  {
   "cell_type": "code",
   "execution_count": 44,
   "metadata": {},
   "outputs": [
    {
     "data": {
      "text/plain": [
       "tensor([[1, 1, 1, 0, 0],\n",
       "        [1, 1, 0, 0, 0],\n",
       "        [1, 0, 0, 0, 0]])"
      ]
     },
     "execution_count": 44,
     "metadata": {},
     "output_type": "execute_result"
    }
   ],
   "source": [
    "test"
   ]
  },
  {
   "cell_type": "code",
   "execution_count": null,
   "metadata": {},
   "outputs": [],
   "source": []
  }
 ],
 "metadata": {
  "kernelspec": {
   "display_name": "rnn",
   "language": "python",
   "name": "python3"
  },
  "language_info": {
   "codemirror_mode": {
    "name": "ipython",
    "version": 3
   },
   "file_extension": ".py",
   "mimetype": "text/x-python",
   "name": "python",
   "nbconvert_exporter": "python",
   "pygments_lexer": "ipython3",
   "version": "3.10.14"
  }
 },
 "nbformat": 4,
 "nbformat_minor": 2
}
