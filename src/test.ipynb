{
 "cells": [
  {
   "cell_type": "code",
   "execution_count": 1,
   "metadata": {},
   "outputs": [],
   "source": [
    "import torch\n",
    "from torch import nn\n",
    "\n",
    "from tokenizers import Tokenizer\n",
    "\n",
    "import info\n",
    "from data import CustomENFRDataset\n",
    "from layers import EmbeddingWithPosition, EncoderLayer, DecoderLayer\n",
    "from sublayers import MultiHeadAttention, LayerLorm, PositionWiseFeedForward\n",
    "from torch.utils.data import DataLoader\n",
    "from model import Transformer"
   ]
  },
  {
   "cell_type": "code",
   "execution_count": 38,
   "metadata": {},
   "outputs": [
    {
     "name": "stderr",
     "output_type": "stream",
     "text": [
      "Filtering...:   0%|          | 2737/40842333 [00:00<2:31:10, 4502.70it/s]\n"
     ]
    }
   ],
   "source": [
    "hyper_params = getattr(info, \"base_hyper_params\")\n",
    "tokenizer_path = \"../data/ende_WMT14_Tokenizer.json\"\n",
    "tokenizer = Tokenizer.from_file(tokenizer_path)\n",
    "vocab_size = tokenizer.get_vocab_size()\n",
    "src_train_data_path = \"../data/test/test_en.txt\"\n",
    "tgt_train_data_path = \"../data/test/test_de.txt\"\n",
    "training_dataset = CustomENFRDataset(tokenizer=tokenizer, src_path=src_train_data_path, tgt_path=tgt_train_data_path)\n",
    "# model = Transformer(N=hyper_params[\"N\"], vocab_size=vocab_size, pos_max_len=info.max_len,\n",
    "#                     d_model=hyper_params[\"d_model\"], head=hyper_params[\"head\"], d_k=hyper_params[\"d_k\"],\n",
    "#                     d_v=hyper_params[\"d_v\"], d_ff=hyper_params[\"d_ff\"], drop_rate=hyper_params[\"dropout_rate\"]).to(info.device)"
   ]
  },
  {
   "cell_type": "code",
   "execution_count": 3,
   "metadata": {},
   "outputs": [
    {
     "data": {
      "text/plain": [
       "[tensor([    1,  5998,  6397,  3195, 10549,  6054,  5078, 21988, 12277, 13572,\n",
       "          3190,  6609, 12216,  7014,  5574,     2,     0,     0,     0,     0,\n",
       "             0,     0,     0,     0,     0,     0,     0,     0,     0,     0,\n",
       "             0,     0,     0,     0,     0,     0,     0,     0,     0,     0,\n",
       "             0,     0,     0,     0,     0,     0,     0,     0,     0,     0,\n",
       "             0,     0,     0,     0,     0,     0,     0,     0,     0,     0,\n",
       "             0,     0,     0,     0,     0,     0,     0,     0,     0,     0,\n",
       "             0,     0,     0,     0,     0,     0,     0,     0,     0,     0,\n",
       "             0,     0,     0,     0,     0,     0,     0,     0,     0,     0,\n",
       "             0,     0,     0,     0,     0,     0,     0,     0,     0,     0,\n",
       "             0,     0,     0,     0,     0,     0,     0,     0,     0,     0,\n",
       "             0,     0,     0,     0,     0,     0,     0,     0,     0,     0,\n",
       "             0,     0,     0,     0,     0,     0,     0,     0]),\n",
       " tensor([    1,  5998,  6397,  3195, 10549,  6054,  5083, 21988, 12277, 13572,\n",
       "          3190, 13941,  5280,  5639,  5739,     2,     0,     0,     0,     0,\n",
       "             0,     0,     0,     0,     0,     0,     0,     0,     0,     0,\n",
       "             0,     0,     0,     0,     0,     0,     0,     0,     0,     0,\n",
       "             0,     0,     0,     0,     0,     0,     0,     0,     0,     0,\n",
       "             0,     0,     0,     0,     0,     0,     0,     0,     0,     0,\n",
       "             0,     0,     0,     0,     0,     0,     0,     0,     0,     0,\n",
       "             0,     0,     0,     0,     0,     0,     0,     0,     0,     0,\n",
       "             0,     0,     0,     0,     0,     0,     0,     0,     0,     0,\n",
       "             0,     0,     0,     0,     0,     0,     0,     0,     0,     0,\n",
       "             0,     0,     0,     0,     0,     0,     0,     0,     0,     0,\n",
       "             0,     0,     0,     0,     0,     0,     0,     0,     0,     0,\n",
       "             0,     0,     0,     0,     0,     0,     0,     0,     0]),\n",
       " 16,\n",
       " 16]"
      ]
     },
     "execution_count": 3,
     "metadata": {},
     "output_type": "execute_result"
    }
   ],
   "source": [
    "training_dataset.__getitem__(0)"
   ]
  },
  {
   "cell_type": "code",
   "execution_count": 4,
   "metadata": {},
   "outputs": [],
   "source": [
    "dl = DataLoader(training_dataset, batch_size=5)\n",
    "src_input, tgt_input, _, __ = next(iter(dl))"
   ]
  },
  {
   "cell_type": "code",
   "execution_count": 7,
   "metadata": {},
   "outputs": [],
   "source": [
    "predict = model.forward(src_input, tgt_input[:,:-1])"
   ]
  },
  {
   "cell_type": "code",
   "execution_count": 39,
   "metadata": {},
   "outputs": [
    {
     "data": {
      "text/plain": [
       "tensor([[-0.0424, -0.1083, -0.1052,  ..., -0.0166, -0.0339,  0.3135],\n",
       "        [-0.0424, -0.0710,  0.0265,  ..., -0.0079,  0.1309,  0.1723],\n",
       "        [-0.0424, -0.0147,  0.0018,  ...,  0.0630,  0.1561,  0.2125],\n",
       "        ...,\n",
       "        [-0.0424, -0.0157,  0.1588,  ..., -0.0298, -0.1380,  0.2729],\n",
       "        [-0.0424,  0.0258,  0.0478,  ..., -0.0124,  0.0690,  0.0397],\n",
       "        [-0.0424,  0.0900,  0.1489,  ...,  0.0059, -0.1329,  0.2162]],\n",
       "       grad_fn=<ViewBackward0>)"
      ]
     },
     "execution_count": 39,
     "metadata": {},
     "output_type": "execute_result"
    }
   ],
   "source": [
    "predict"
   ]
  },
  {
   "cell_type": "code",
   "execution_count": null,
   "metadata": {},
   "outputs": [],
   "source": []
  },
  {
   "cell_type": "code",
   "execution_count": null,
   "metadata": {},
   "outputs": [],
   "source": []
  }
 ],
 "metadata": {
  "kernelspec": {
   "display_name": "rnn",
   "language": "python",
   "name": "python3"
  },
  "language_info": {
   "codemirror_mode": {
    "name": "ipython",
    "version": 3
   },
   "file_extension": ".py",
   "mimetype": "text/x-python",
   "name": "python",
   "nbconvert_exporter": "python",
   "pygments_lexer": "ipython3",
   "version": "3.10.14"
  }
 },
 "nbformat": 4,
 "nbformat_minor": 2
}
